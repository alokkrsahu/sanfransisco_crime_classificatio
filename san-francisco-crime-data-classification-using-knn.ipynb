{
 "cells": [
  {
   "cell_type": "code",
   "execution_count": 1,
   "metadata": {
    "_cell_guid": "79c7e3d0-c299-4dcb-8224-4455121ee9b0",
    "_uuid": "d629ff2d2480ee46fbb7e2d37f6b5fab8052498a",
    "execution": {
     "iopub.execute_input": "2020-09-15T19:15:53.454426Z",
     "iopub.status.busy": "2020-09-15T19:15:53.453541Z",
     "iopub.status.idle": "2020-09-15T19:15:54.867527Z",
     "shell.execute_reply": "2020-09-15T19:15:54.866177Z"
    },
    "papermill": {
     "duration": 1.430611,
     "end_time": "2020-09-15T19:15:54.867678",
     "exception": false,
     "start_time": "2020-09-15T19:15:53.437067",
     "status": "completed"
    },
    "tags": []
   },
   "outputs": [],
   "source": [
    "import csv\n",
    "import os\n",
    "import numpy as np\n",
    "from sklearn.neighbors import NearestNeighbors\n",
    "import pandas as pd\n",
    "import zipfile\n",
    "from sklearn.neighbors import NearestNeighbors\n",
    "from sklearn.neighbors import KNeighborsClassifier\n",
    "from sklearn.linear_model import LogisticRegression\n",
    "from sklearn.ensemble import RandomForestClassifier\n",
    "from sklearn import preprocessing\n",
    "from datetime import datetime\n",
    "le = preprocessing.LabelEncoder()"
   ]
  },
  {
   "cell_type": "code",
   "execution_count": 2,
   "metadata": {
    "execution": {
     "iopub.execute_input": "2020-09-15T19:15:54.898561Z",
     "iopub.status.busy": "2020-09-15T19:15:54.897633Z",
     "iopub.status.idle": "2020-09-15T19:16:00.456294Z",
     "shell.execute_reply": "2020-09-15T19:16:00.457415Z"
    },
    "papermill": {
     "duration": 5.578582,
     "end_time": "2020-09-15T19:16:00.457651",
     "exception": false,
     "start_time": "2020-09-15T19:15:54.879069",
     "status": "completed"
    },
    "tags": []
   },
   "outputs": [],
   "source": [
    "#../input/sf-crime/train.csv.zip\n",
    "z = zipfile.ZipFile('../input/sf-crime/train.csv.zip')\n",
    "train = pd.read_csv(z.open('train.csv'))\n",
    "z = zipfile.ZipFile('../input/sf-crime/test.csv.zip')\n",
    "test = pd.read_csv(z.open('test.csv'))\n",
    "\n",
    "l = train.Category.unique()\n",
    "train_cf = ['Category','Resolution','DayOfWeek','PdDistrict','Descript','Address']\n",
    "test_cf = ['DayOfWeek','PdDistrict','Address']\n",
    "test_id = test['Id']\n",
    "cat_train = train['Category']"
   ]
  },
  {
   "cell_type": "code",
   "execution_count": 3,
   "metadata": {
    "execution": {
     "iopub.execute_input": "2020-09-15T19:16:00.522570Z",
     "iopub.status.busy": "2020-09-15T19:16:00.516894Z",
     "iopub.status.idle": "2020-09-15T19:16:42.915269Z",
     "shell.execute_reply": "2020-09-15T19:16:42.914298Z"
    },
    "papermill": {
     "duration": 42.441375,
     "end_time": "2020-09-15T19:16:42.915418",
     "exception": false,
     "start_time": "2020-09-15T19:16:00.474043",
     "status": "completed"
    },
    "tags": []
   },
   "outputs": [],
   "source": [
    "s1 = list()\n",
    "for i in train['Dates']:\n",
    "    dt = datetime.strptime(str(i), '%Y-%m-%d %H:%M:%S')\n",
    "    s1.append(dt.strftime(\"%H%M\"))\n",
    "train['Dates']  = pd.DataFrame(s1,columns=['Dates'])\n",
    "\n",
    "s1 = list()\n",
    "for i in test['Dates']:\n",
    "    dt = datetime.strptime(str(i), '%Y-%m-%d %H:%M:%S')\n",
    "    s1.append(dt.strftime(\"%H%M\"))\n",
    "test['Dates']  = pd.DataFrame(s1,columns=['Dates'])\n",
    "    \n",
    "for i in train_cf:\n",
    "    train[i] = le.fit_transform(train[i])\n",
    "    \n",
    "for i in test_cf:\n",
    "    test[i] = le.fit_transform(test[i])\n",
    "train_pred = train['Category']\n",
    "\n",
    "    \n",
    "#'2015-05-13 23:53:00'    \n",
    "#datetime_object = datetime.strptime('Jun 1 2005  1:33PM', '%b %d %Y %I:%M%p')"
   ]
  },
  {
   "cell_type": "code",
   "execution_count": 4,
   "metadata": {
    "execution": {
     "iopub.execute_input": "2020-09-15T19:16:42.982069Z",
     "iopub.status.busy": "2020-09-15T19:16:42.981286Z",
     "iopub.status.idle": "2020-09-15T19:16:42.999552Z",
     "shell.execute_reply": "2020-09-15T19:16:43.000098Z"
    },
    "papermill": {
     "duration": 0.072763,
     "end_time": "2020-09-15T19:16:43.000353",
     "exception": false,
     "start_time": "2020-09-15T19:16:42.927590",
     "status": "completed"
    },
    "tags": []
   },
   "outputs": [
    {
     "data": {
      "text/html": [
       "<div>\n",
       "<style scoped>\n",
       "    .dataframe tbody tr th:only-of-type {\n",
       "        vertical-align: middle;\n",
       "    }\n",
       "\n",
       "    .dataframe tbody tr th {\n",
       "        vertical-align: top;\n",
       "    }\n",
       "\n",
       "    .dataframe thead th {\n",
       "        text-align: right;\n",
       "    }\n",
       "</style>\n",
       "<table border=\"1\" class=\"dataframe\">\n",
       "  <thead>\n",
       "    <tr style=\"text-align: right;\">\n",
       "      <th></th>\n",
       "      <th>Id</th>\n",
       "      <th>Dates</th>\n",
       "      <th>DayOfWeek</th>\n",
       "      <th>PdDistrict</th>\n",
       "      <th>Address</th>\n",
       "      <th>X</th>\n",
       "      <th>Y</th>\n",
       "    </tr>\n",
       "  </thead>\n",
       "  <tbody>\n",
       "    <tr>\n",
       "      <th>0</th>\n",
       "      <td>0</td>\n",
       "      <td>2359</td>\n",
       "      <td>3</td>\n",
       "      <td>0</td>\n",
       "      <td>6407</td>\n",
       "      <td>-122.399588</td>\n",
       "      <td>37.735051</td>\n",
       "    </tr>\n",
       "    <tr>\n",
       "      <th>1</th>\n",
       "      <td>1</td>\n",
       "      <td>2351</td>\n",
       "      <td>3</td>\n",
       "      <td>0</td>\n",
       "      <td>9744</td>\n",
       "      <td>-122.391523</td>\n",
       "      <td>37.732432</td>\n",
       "    </tr>\n",
       "    <tr>\n",
       "      <th>2</th>\n",
       "      <td>2</td>\n",
       "      <td>2350</td>\n",
       "      <td>3</td>\n",
       "      <td>4</td>\n",
       "      <td>6336</td>\n",
       "      <td>-122.426002</td>\n",
       "      <td>37.792212</td>\n",
       "    </tr>\n",
       "    <tr>\n",
       "      <th>3</th>\n",
       "      <td>3</td>\n",
       "      <td>2345</td>\n",
       "      <td>3</td>\n",
       "      <td>2</td>\n",
       "      <td>10633</td>\n",
       "      <td>-122.437394</td>\n",
       "      <td>37.721412</td>\n",
       "    </tr>\n",
       "    <tr>\n",
       "      <th>4</th>\n",
       "      <td>4</td>\n",
       "      <td>2345</td>\n",
       "      <td>3</td>\n",
       "      <td>2</td>\n",
       "      <td>10633</td>\n",
       "      <td>-122.437394</td>\n",
       "      <td>37.721412</td>\n",
       "    </tr>\n",
       "    <tr>\n",
       "      <th>...</th>\n",
       "      <td>...</td>\n",
       "      <td>...</td>\n",
       "      <td>...</td>\n",
       "      <td>...</td>\n",
       "      <td>...</td>\n",
       "      <td>...</td>\n",
       "      <td>...</td>\n",
       "    </tr>\n",
       "    <tr>\n",
       "      <th>884257</th>\n",
       "      <td>884257</td>\n",
       "      <td>0001</td>\n",
       "      <td>6</td>\n",
       "      <td>3</td>\n",
       "      <td>7663</td>\n",
       "      <td>-122.408983</td>\n",
       "      <td>37.751987</td>\n",
       "    </tr>\n",
       "    <tr>\n",
       "      <th>884258</th>\n",
       "      <td>884258</td>\n",
       "      <td>0001</td>\n",
       "      <td>6</td>\n",
       "      <td>4</td>\n",
       "      <td>5411</td>\n",
       "      <td>-122.425342</td>\n",
       "      <td>37.792681</td>\n",
       "    </tr>\n",
       "    <tr>\n",
       "      <th>884259</th>\n",
       "      <td>884259</td>\n",
       "      <td>0001</td>\n",
       "      <td>6</td>\n",
       "      <td>2</td>\n",
       "      <td>11240</td>\n",
       "      <td>-122.445418</td>\n",
       "      <td>37.712075</td>\n",
       "    </tr>\n",
       "    <tr>\n",
       "      <th>884260</th>\n",
       "      <td>884260</td>\n",
       "      <td>0001</td>\n",
       "      <td>6</td>\n",
       "      <td>0</td>\n",
       "      <td>4231</td>\n",
       "      <td>-122.387394</td>\n",
       "      <td>37.739479</td>\n",
       "    </tr>\n",
       "    <tr>\n",
       "      <th>884261</th>\n",
       "      <td>884261</td>\n",
       "      <td>0001</td>\n",
       "      <td>6</td>\n",
       "      <td>8</td>\n",
       "      <td>4313</td>\n",
       "      <td>-122.489714</td>\n",
       "      <td>37.733950</td>\n",
       "    </tr>\n",
       "  </tbody>\n",
       "</table>\n",
       "<p>884262 rows × 7 columns</p>\n",
       "</div>"
      ],
      "text/plain": [
       "            Id Dates  DayOfWeek  PdDistrict  Address           X          Y\n",
       "0            0  2359          3           0     6407 -122.399588  37.735051\n",
       "1            1  2351          3           0     9744 -122.391523  37.732432\n",
       "2            2  2350          3           4     6336 -122.426002  37.792212\n",
       "3            3  2345          3           2    10633 -122.437394  37.721412\n",
       "4            4  2345          3           2    10633 -122.437394  37.721412\n",
       "...        ...   ...        ...         ...      ...         ...        ...\n",
       "884257  884257  0001          6           3     7663 -122.408983  37.751987\n",
       "884258  884258  0001          6           4     5411 -122.425342  37.792681\n",
       "884259  884259  0001          6           2    11240 -122.445418  37.712075\n",
       "884260  884260  0001          6           0     4231 -122.387394  37.739479\n",
       "884261  884261  0001          6           8     4313 -122.489714  37.733950\n",
       "\n",
       "[884262 rows x 7 columns]"
      ]
     },
     "execution_count": 4,
     "metadata": {},
     "output_type": "execute_result"
    }
   ],
   "source": [
    "test"
   ]
  },
  {
   "cell_type": "code",
   "execution_count": 5,
   "metadata": {
    "execution": {
     "iopub.execute_input": "2020-09-15T19:16:43.047364Z",
     "iopub.status.busy": "2020-09-15T19:16:43.039829Z",
     "iopub.status.idle": "2020-09-15T19:16:43.052891Z",
     "shell.execute_reply": "2020-09-15T19:16:43.052174Z"
    },
    "papermill": {
     "duration": 0.040213,
     "end_time": "2020-09-15T19:16:43.053020",
     "exception": false,
     "start_time": "2020-09-15T19:16:43.012807",
     "status": "completed"
    },
    "tags": []
   },
   "outputs": [
    {
     "data": {
      "text/html": [
       "<div>\n",
       "<style scoped>\n",
       "    .dataframe tbody tr th:only-of-type {\n",
       "        vertical-align: middle;\n",
       "    }\n",
       "\n",
       "    .dataframe tbody tr th {\n",
       "        vertical-align: top;\n",
       "    }\n",
       "\n",
       "    .dataframe thead th {\n",
       "        text-align: right;\n",
       "    }\n",
       "</style>\n",
       "<table border=\"1\" class=\"dataframe\">\n",
       "  <thead>\n",
       "    <tr style=\"text-align: right;\">\n",
       "      <th></th>\n",
       "      <th>Dates</th>\n",
       "      <th>Category</th>\n",
       "      <th>Descript</th>\n",
       "      <th>DayOfWeek</th>\n",
       "      <th>PdDistrict</th>\n",
       "      <th>Resolution</th>\n",
       "      <th>Address</th>\n",
       "      <th>X</th>\n",
       "      <th>Y</th>\n",
       "    </tr>\n",
       "  </thead>\n",
       "  <tbody>\n",
       "    <tr>\n",
       "      <th>0</th>\n",
       "      <td>2353</td>\n",
       "      <td>37</td>\n",
       "      <td>866</td>\n",
       "      <td>6</td>\n",
       "      <td>4</td>\n",
       "      <td>0</td>\n",
       "      <td>19790</td>\n",
       "      <td>-122.425892</td>\n",
       "      <td>37.774599</td>\n",
       "    </tr>\n",
       "    <tr>\n",
       "      <th>1</th>\n",
       "      <td>2353</td>\n",
       "      <td>21</td>\n",
       "      <td>810</td>\n",
       "      <td>6</td>\n",
       "      <td>4</td>\n",
       "      <td>0</td>\n",
       "      <td>19790</td>\n",
       "      <td>-122.425892</td>\n",
       "      <td>37.774599</td>\n",
       "    </tr>\n",
       "    <tr>\n",
       "      <th>2</th>\n",
       "      <td>2333</td>\n",
       "      <td>21</td>\n",
       "      <td>810</td>\n",
       "      <td>6</td>\n",
       "      <td>4</td>\n",
       "      <td>0</td>\n",
       "      <td>22697</td>\n",
       "      <td>-122.424363</td>\n",
       "      <td>37.800414</td>\n",
       "    </tr>\n",
       "    <tr>\n",
       "      <th>3</th>\n",
       "      <td>2330</td>\n",
       "      <td>16</td>\n",
       "      <td>404</td>\n",
       "      <td>6</td>\n",
       "      <td>4</td>\n",
       "      <td>11</td>\n",
       "      <td>4266</td>\n",
       "      <td>-122.426995</td>\n",
       "      <td>37.800873</td>\n",
       "    </tr>\n",
       "    <tr>\n",
       "      <th>4</th>\n",
       "      <td>2330</td>\n",
       "      <td>16</td>\n",
       "      <td>404</td>\n",
       "      <td>6</td>\n",
       "      <td>5</td>\n",
       "      <td>11</td>\n",
       "      <td>1843</td>\n",
       "      <td>-122.438738</td>\n",
       "      <td>37.771541</td>\n",
       "    </tr>\n",
       "    <tr>\n",
       "      <th>...</th>\n",
       "      <td>...</td>\n",
       "      <td>...</td>\n",
       "      <td>...</td>\n",
       "      <td>...</td>\n",
       "      <td>...</td>\n",
       "      <td>...</td>\n",
       "      <td>...</td>\n",
       "      <td>...</td>\n",
       "      <td>...</td>\n",
       "    </tr>\n",
       "    <tr>\n",
       "      <th>878044</th>\n",
       "      <td>0015</td>\n",
       "      <td>25</td>\n",
       "      <td>661</td>\n",
       "      <td>1</td>\n",
       "      <td>8</td>\n",
       "      <td>11</td>\n",
       "      <td>15816</td>\n",
       "      <td>-122.459033</td>\n",
       "      <td>37.714056</td>\n",
       "    </tr>\n",
       "    <tr>\n",
       "      <th>878045</th>\n",
       "      <td>0001</td>\n",
       "      <td>16</td>\n",
       "      <td>404</td>\n",
       "      <td>1</td>\n",
       "      <td>2</td>\n",
       "      <td>11</td>\n",
       "      <td>11491</td>\n",
       "      <td>-122.447364</td>\n",
       "      <td>37.731948</td>\n",
       "    </tr>\n",
       "    <tr>\n",
       "      <th>878046</th>\n",
       "      <td>0001</td>\n",
       "      <td>16</td>\n",
       "      <td>404</td>\n",
       "      <td>1</td>\n",
       "      <td>7</td>\n",
       "      <td>11</td>\n",
       "      <td>11315</td>\n",
       "      <td>-122.403390</td>\n",
       "      <td>37.780266</td>\n",
       "    </tr>\n",
       "    <tr>\n",
       "      <th>878047</th>\n",
       "      <td>0001</td>\n",
       "      <td>35</td>\n",
       "      <td>496</td>\n",
       "      <td>1</td>\n",
       "      <td>7</td>\n",
       "      <td>11</td>\n",
       "      <td>22308</td>\n",
       "      <td>-122.390531</td>\n",
       "      <td>37.780607</td>\n",
       "    </tr>\n",
       "    <tr>\n",
       "      <th>878048</th>\n",
       "      <td>0001</td>\n",
       "      <td>12</td>\n",
       "      <td>204</td>\n",
       "      <td>1</td>\n",
       "      <td>0</td>\n",
       "      <td>11</td>\n",
       "      <td>5128</td>\n",
       "      <td>-122.394926</td>\n",
       "      <td>37.738212</td>\n",
       "    </tr>\n",
       "  </tbody>\n",
       "</table>\n",
       "<p>878049 rows × 9 columns</p>\n",
       "</div>"
      ],
      "text/plain": [
       "       Dates  Category  Descript  DayOfWeek  PdDistrict  Resolution  Address  \\\n",
       "0       2353        37       866          6           4           0    19790   \n",
       "1       2353        21       810          6           4           0    19790   \n",
       "2       2333        21       810          6           4           0    22697   \n",
       "3       2330        16       404          6           4          11     4266   \n",
       "4       2330        16       404          6           5          11     1843   \n",
       "...      ...       ...       ...        ...         ...         ...      ...   \n",
       "878044  0015        25       661          1           8          11    15816   \n",
       "878045  0001        16       404          1           2          11    11491   \n",
       "878046  0001        16       404          1           7          11    11315   \n",
       "878047  0001        35       496          1           7          11    22308   \n",
       "878048  0001        12       204          1           0          11     5128   \n",
       "\n",
       "                 X          Y  \n",
       "0      -122.425892  37.774599  \n",
       "1      -122.425892  37.774599  \n",
       "2      -122.424363  37.800414  \n",
       "3      -122.426995  37.800873  \n",
       "4      -122.438738  37.771541  \n",
       "...            ...        ...  \n",
       "878044 -122.459033  37.714056  \n",
       "878045 -122.447364  37.731948  \n",
       "878046 -122.403390  37.780266  \n",
       "878047 -122.390531  37.780607  \n",
       "878048 -122.394926  37.738212  \n",
       "\n",
       "[878049 rows x 9 columns]"
      ]
     },
     "execution_count": 5,
     "metadata": {},
     "output_type": "execute_result"
    }
   ],
   "source": [
    "train"
   ]
  },
  {
   "cell_type": "code",
   "execution_count": 6,
   "metadata": {
    "execution": {
     "iopub.execute_input": "2020-09-15T19:16:43.082346Z",
     "iopub.status.busy": "2020-09-15T19:16:43.081669Z",
     "iopub.status.idle": "2020-09-15T19:16:43.185308Z",
     "shell.execute_reply": "2020-09-15T19:16:43.184680Z"
    },
    "papermill": {
     "duration": 0.119314,
     "end_time": "2020-09-15T19:16:43.185425",
     "exception": false,
     "start_time": "2020-09-15T19:16:43.066111",
     "status": "completed"
    },
    "tags": []
   },
   "outputs": [],
   "source": [
    "training = train.drop(['Category','Descript','Resolution'], axis = 1)\n",
    "testing = test.drop(['Id'], axis = 1)"
   ]
  },
  {
   "cell_type": "code",
   "execution_count": 7,
   "metadata": {
    "execution": {
     "iopub.execute_input": "2020-09-15T19:16:43.222409Z",
     "iopub.status.busy": "2020-09-15T19:16:43.221618Z",
     "iopub.status.idle": "2020-09-15T19:16:43.375840Z",
     "shell.execute_reply": "2020-09-15T19:16:43.376658Z"
    },
    "papermill": {
     "duration": 0.178207,
     "end_time": "2020-09-15T19:16:43.376923",
     "exception": false,
     "start_time": "2020-09-15T19:16:43.198716",
     "status": "completed"
    },
    "tags": []
   },
   "outputs": [
    {
     "name": "stdout",
     "output_type": "stream",
     "text": [
      "                             Id  Index\n",
      "25                        ARSON      0\n",
      "7                       ASSAULT      1\n",
      "35                   BAD CHECKS      2\n",
      "28                      BRIBERY      3\n",
      "9                      BURGLARY      4\n",
      "24           DISORDERLY CONDUCT      5\n",
      "21  DRIVING UNDER THE INFLUENCE      6\n",
      "13                DRUG/NARCOTIC      7\n",
      "11                  DRUNKENNESS      8\n",
      "29                 EMBEZZLEMENT      9\n",
      "33                    EXTORTION     10\n",
      "26              FAMILY OFFENSES     11\n",
      "12       FORGERY/COUNTERFEITING     12\n",
      "18                        FRAUD     13\n",
      "34                     GAMBLING     14\n",
      "19                   KIDNAPPING     15\n",
      "2                 LARCENY/THEFT     16\n",
      "27                  LIQUOR LAWS     17\n",
      "31                    LOITERING     18\n",
      "17               MISSING PERSON     19\n",
      "5                  NON-CRIMINAL     20\n",
      "1                OTHER OFFENSES     21\n",
      "38      PORNOGRAPHY/OBSCENE MAT     22\n",
      "23                 PROSTITUTION     23\n",
      "37            RECOVERED VEHICLE     24\n",
      "6                       ROBBERY     25\n",
      "20                      RUNAWAY     26\n",
      "15              SECONDARY CODES     27\n",
      "22        SEX OFFENSES FORCIBLE     28\n",
      "32    SEX OFFENSES NON FORCIBLE     29\n",
      "14              STOLEN PROPERTY     30\n",
      "30                      SUICIDE     31\n",
      "10               SUSPICIOUS OCC     32\n",
      "36                         TREA     33\n",
      "16                     TRESPASS     34\n",
      "4                     VANDALISM     35\n",
      "3                 VEHICLE THEFT     36\n",
      "0                      WARRANTS     37\n",
      "8                   WEAPON LAWS     38\n"
     ]
    }
   ],
   "source": [
    "result = pd.concat([pd.DataFrame(cat_train),pd.DataFrame(train_pred)], axis=1)\n",
    "result = result.drop_duplicates() \n",
    "result.reset_index(drop=True, inplace=True)\n",
    "#result.columns.name = None\n",
    "result.columns = ['Id', 'Index']\n",
    "category = dict(zip(result.Index, result.Id))\n",
    "result = result.sort_values(by=['Id'])\n",
    "print(result)"
   ]
  },
  {
   "cell_type": "code",
   "execution_count": 8,
   "metadata": {
    "execution": {
     "iopub.execute_input": "2020-09-15T19:16:43.418204Z",
     "iopub.status.busy": "2020-09-15T19:16:43.416287Z",
     "iopub.status.idle": "2020-09-15T19:16:46.966961Z",
     "shell.execute_reply": "2020-09-15T19:16:46.967604Z"
    },
    "papermill": {
     "duration": 3.573906,
     "end_time": "2020-09-15T19:16:46.967782",
     "exception": false,
     "start_time": "2020-09-15T19:16:43.393876",
     "status": "completed"
    },
    "tags": []
   },
   "outputs": [
    {
     "data": {
      "text/plain": [
       "KNeighborsClassifier(n_neighbors=39)"
      ]
     },
     "execution_count": 8,
     "metadata": {},
     "output_type": "execute_result"
    }
   ],
   "source": [
    "#reg = LinearRegression()\n",
    "#reg.fit(training,train_pred)\n",
    "#model = LogisticRegression(solver='lbfgs')\n",
    "#model.fit(training,train_pred)\n",
    "#clf = RandomForestClassifier(n_estimators = 1000, random_state = 9)\n",
    "#clf.fit(training,train_pred).TPUClusterResolver()\n",
    "model = KNeighborsClassifier(n_neighbors=len(l))\n",
    "model.fit(training,train_pred)"
   ]
  },
  {
   "cell_type": "code",
   "execution_count": 9,
   "metadata": {
    "execution": {
     "iopub.execute_input": "2020-09-15T19:16:47.028407Z",
     "iopub.status.busy": "2020-09-15T19:16:47.027675Z",
     "iopub.status.idle": "2020-09-15T19:17:41.710520Z",
     "shell.execute_reply": "2020-09-15T19:17:41.709303Z"
    },
    "papermill": {
     "duration": 54.728911,
     "end_time": "2020-09-15T19:17:41.710673",
     "exception": false,
     "start_time": "2020-09-15T19:16:46.981762",
     "status": "completed"
    },
    "tags": []
   },
   "outputs": [],
   "source": [
    "predicted= model.predict(testing)"
   ]
  },
  {
   "cell_type": "code",
   "execution_count": 10,
   "metadata": {
    "execution": {
     "iopub.execute_input": "2020-09-15T19:17:41.760538Z",
     "iopub.status.busy": "2020-09-15T19:17:41.759481Z",
     "iopub.status.idle": "2020-09-15T19:17:41.762157Z",
     "shell.execute_reply": "2020-09-15T19:17:41.762817Z"
    },
    "papermill": {
     "duration": 0.038137,
     "end_time": "2020-09-15T19:17:41.762970",
     "exception": false,
     "start_time": "2020-09-15T19:17:41.724833",
     "status": "completed"
    },
    "tags": []
   },
   "outputs": [],
   "source": [
    "p = predicted.tolist()"
   ]
  },
  {
   "cell_type": "code",
   "execution_count": 11,
   "metadata": {
    "execution": {
     "iopub.execute_input": "2020-09-15T19:17:41.794868Z",
     "iopub.status.busy": "2020-09-15T19:17:41.794132Z",
     "iopub.status.idle": "2020-09-15T19:17:42.250235Z",
     "shell.execute_reply": "2020-09-15T19:17:42.249687Z"
    },
    "papermill": {
     "duration": 0.472981,
     "end_time": "2020-09-15T19:17:42.250376",
     "exception": false,
     "start_time": "2020-09-15T19:17:41.777395",
     "status": "completed"
    },
    "tags": []
   },
   "outputs": [
    {
     "data": {
      "text/plain": [
       "0                  DRUG/NARCOTIC\n",
       "1                 OTHER OFFENSES\n",
       "2                  LARCENY/THEFT\n",
       "3                        ASSAULT\n",
       "4                        ASSAULT\n",
       "                   ...          \n",
       "884257             LARCENY/THEFT\n",
       "884258             LARCENY/THEFT\n",
       "884259    FORGERY/COUNTERFEITING\n",
       "884260                 VANDALISM\n",
       "884261             LARCENY/THEFT\n",
       "Name: Output, Length: 884262, dtype: object"
      ]
     },
     "execution_count": 11,
     "metadata": {},
     "output_type": "execute_result"
    }
   ],
   "source": [
    "output = pd.DataFrame(p,columns=['Output'])\n",
    "output = output['Output'].map(category)\n",
    "output"
   ]
  },
  {
   "cell_type": "code",
   "execution_count": 12,
   "metadata": {
    "execution": {
     "iopub.execute_input": "2020-09-15T19:17:42.285484Z",
     "iopub.status.busy": "2020-09-15T19:17:42.284797Z",
     "iopub.status.idle": "2020-09-15T19:17:42.637241Z",
     "shell.execute_reply": "2020-09-15T19:17:42.636576Z"
    },
    "papermill": {
     "duration": 0.372288,
     "end_time": "2020-09-15T19:17:42.637384",
     "exception": false,
     "start_time": "2020-09-15T19:17:42.265096",
     "status": "completed"
    },
    "tags": []
   },
   "outputs": [],
   "source": [
    "output = output.to_dict()\n"
   ]
  },
  {
   "cell_type": "code",
   "execution_count": 13,
   "metadata": {
    "execution": {
     "iopub.execute_input": "2020-09-15T19:17:42.672957Z",
     "iopub.status.busy": "2020-09-15T19:17:42.672236Z",
     "iopub.status.idle": "2020-09-15T19:17:42.676684Z",
     "shell.execute_reply": "2020-09-15T19:17:42.677168Z"
    },
    "papermill": {
     "duration": 0.024796,
     "end_time": "2020-09-15T19:17:42.677344",
     "exception": false,
     "start_time": "2020-09-15T19:17:42.652548",
     "status": "completed"
    },
    "tags": []
   },
   "outputs": [
    {
     "data": {
      "text/plain": [
       "884262"
      ]
     },
     "execution_count": 13,
     "metadata": {},
     "output_type": "execute_result"
    }
   ],
   "source": [
    "len(output)"
   ]
  },
  {
   "cell_type": "code",
   "execution_count": 14,
   "metadata": {
    "execution": {
     "iopub.execute_input": "2020-09-15T19:17:42.766646Z",
     "iopub.status.busy": "2020-09-15T19:17:42.730329Z",
     "iopub.status.idle": "2020-09-15T19:18:58.424107Z",
     "shell.execute_reply": "2020-09-15T19:18:58.424687Z"
    },
    "papermill": {
     "duration": 75.732334,
     "end_time": "2020-09-15T19:18:58.424872",
     "exception": false,
     "start_time": "2020-09-15T19:17:42.692538",
     "status": "completed"
    },
    "tags": []
   },
   "outputs": [],
   "source": [
    "df = pd.DataFrame(columns=result['Id'])\n",
    "zero_mat = np.zeros((len(output), len(result)), dtype=int)\n",
    "final = pd.DataFrame(data= zero_mat, columns=result['Id'])    \n",
    "for i in range(0, len(output)):\n",
    "    c = final.columns.get_loc(output[i])\n",
    "    final.iloc[i,c] = 1"
   ]
  },
  {
   "cell_type": "code",
   "execution_count": 15,
   "metadata": {
    "execution": {
     "iopub.execute_input": "2020-09-15T19:18:58.459881Z",
     "iopub.status.busy": "2020-09-15T19:18:58.459201Z",
     "iopub.status.idle": "2020-09-15T19:19:07.303475Z",
     "shell.execute_reply": "2020-09-15T19:19:07.302756Z"
    },
    "papermill": {
     "duration": 8.862591,
     "end_time": "2020-09-15T19:19:07.303599",
     "exception": false,
     "start_time": "2020-09-15T19:18:58.441008",
     "status": "completed"
    },
    "tags": []
   },
   "outputs": [],
   "source": [
    "final.index.name = 'ID'\n",
    "final.to_csv('./Submission.csv', index = True)"
   ]
  }
 ],
 "metadata": {
  "kernelspec": {
   "display_name": "Python 3",
   "language": "python",
   "name": "python3"
  },
  "language_info": {
   "codemirror_mode": {
    "name": "ipython",
    "version": 3
   },
   "file_extension": ".py",
   "mimetype": "text/x-python",
   "name": "python",
   "nbconvert_exporter": "python",
   "pygments_lexer": "ipython3",
   "version": "3.7.6"
  },
  "papermill": {
   "duration": 199.080184,
   "end_time": "2020-09-15T19:19:07.428871",
   "environment_variables": {},
   "exception": null,
   "input_path": "__notebook__.ipynb",
   "output_path": "__notebook__.ipynb",
   "parameters": {},
   "start_time": "2020-09-15T19:15:48.348687",
   "version": "2.1.0"
  }
 },
 "nbformat": 4,
 "nbformat_minor": 4
}
